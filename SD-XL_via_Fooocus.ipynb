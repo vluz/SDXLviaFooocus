{
 "cells": [
  {
   "cell_type": "markdown",
   "metadata": {
    "id": "8vvCPvwUGg9Z"
   },
   "source": [
    "# SD-XL on collab free via Fooocus 😏\n",
    "\n",
    "## Run each code cell in sequence.\n",
    "\n",
    "https://github.com/lllyasviel/Fooocus\n",
    "\n",
    "https://github.com/vluz/SDXLviaFooocus"
   ]
  },
  {
   "cell_type": "code",
   "execution_count": null,
   "metadata": {
    "colab": {
     "base_uri": "https://localhost:8080/"
    },
    "id": "VjYy0F2gZIPR",
    "outputId": "7294ccb1-d11c-4e44-dfad-af209ed0f455"
   },
   "outputs": [],
   "source": [
    "%cd /content\n",
    "!git clone https://github.com/lllyasviel/Fooocus"
   ]
  },
  {
   "cell_type": "code",
   "execution_count": null,
   "metadata": {
    "colab": {
     "base_uri": "https://localhost:8080/"
    },
    "id": "8Nr0KfWWFy9V",
    "outputId": "6ad218b7-f29c-44cf-e03d-2992bd035d00"
   },
   "outputs": [],
   "source": [
    "!apt -y update -qq\n",
    "!wget https://github.com/camenduru/gperftools/releases/download/v1.0/libtcmalloc_minimal.so.4 -O /content/libtcmalloc_minimal.so.4\n",
    "%env LD_PRELOAD=/content/libtcmalloc_minimal.so.4"
   ]
  },
  {
   "cell_type": "code",
   "execution_count": null,
   "metadata": {
    "colab": {
     "base_uri": "https://localhost:8080/",
     "height": 1000
    },
    "id": "hWw-tLnGF9vt",
    "outputId": "674cc5c0-90f6-45d1-fe01-5aae34c3326d"
   },
   "outputs": [],
   "source": [
    "!pip install torchsde==0.2.5 einops==0.4.1 transformers==4.30.2 safetensors==0.3.1 accelerate==0.21.0\n",
    "!pip install pytorch_lightning==1.9.4 omegaconf==2.2.3 gradio==3.39.0 xformers==0.0.20 triton==2.0.0 pygit2==1.12.2"
   ]
  },
  {
   "cell_type": "code",
   "execution_count": null,
   "metadata": {
    "colab": {
     "base_uri": "https://localhost:8080/"
    },
    "id": "ksCmR-skGIgR",
    "outputId": "025f4e6d-350f-44df-c221-88de6c07bbbf"
   },
   "outputs": [],
   "source": [
    "!apt -y install -qq aria2\n",
    "!aria2c --console-log-level=error -c -x 16 -s 16 -k 1M…16 -s 16 -k 1M https://huggingface.co/ckpt/sd_xl_refiner_1.0/resolve/main/sd_xl_refiner_1.0_0.9vae.safetensors -d /content/Fooocus/models/checkpoints -o sd_xl_refiner_1.0_0.9vae.safetensors\n",
    "!aria2c --console-log-level=error -c -x 16 -s 16 -k 1M https://huggingface.co/stabilityai/stable-diffusion-xl-base-1.0/resolve/main/sd_xl_offset_example-lora_1.0.safetensors -d /content/Fooocus/models/loras -o sd_xl_offset_example-lora_1.0.safetensors"
   ]
  },
  {
   "cell_type": "code",
   "execution_count": null,
   "metadata": {
    "colab": {
     "base_uri": "https://localhost:8080/"
    },
    "id": "OuI0wOX3GOQw",
    "outputId": "a543818f-950e-47ce-b07d-d93bcb1df007"
   },
   "outputs": [],
   "source": [
    "%cd /content/Fooocus\n",
    "!git pull"
   ]
  },
  {
   "cell_type": "code",
   "execution_count": null,
   "metadata": {
    "colab": {
     "base_uri": "https://localhost:8080/"
    },
    "id": "EupuR3yKGR6X",
    "outputId": "a218db94-1370-42b9-a05b-a02c50dcfc3b"
   },
   "outputs": [],
   "source": [
    "!python launch.py --share"
   ]
  },
  {
   "cell_type": "markdown",
   "metadata": {
    "id": "GAg8zpguGdn2"
   },
   "source": [
    "Wait for line similar to \"Running on public URL: https://000000000.gradio.live\"    \n",
    "Click on link and open in new tab.\n",
    "\n",
    "Generate images as you see fit.\n",
    "\n",
    "===========================================================================\n",
    "\n",
    "After finishing all generation, run cell below."
   ]
  },
  {
   "cell_type": "code",
   "execution_count": null,
   "metadata": {
    "colab": {
     "base_uri": "https://localhost:8080/"
    },
    "id": "kPncjbrSGci2",
    "outputId": "d9f63a69-b026-4183-f430-61571eb9d279"
   },
   "outputs": [],
   "source": [
    "!cd /content/Fooocus/outputs/ && tar -cvf output.tar . && gzip output.tar"
   ]
  },
  {
   "cell_type": "markdown",
   "metadata": {
    "id": "mbrW4V-OHu8I"
   },
   "source": [
    "## Download output.tar.gz from files, /content/Fooocus/outputs/ directory"
   ]
  }
 ],
 "metadata": {
  "accelerator": "GPU",
  "colab": {
   "gpuType": "T4",
   "provenance": []
  },
  "kernelspec": {
   "display_name": "Python 3 (ipykernel)",
   "language": "python",
   "name": "python3"
  },
  "language_info": {
   "codemirror_mode": {
    "name": "ipython",
    "version": 3
   },
   "file_extension": ".py",
   "mimetype": "text/x-python",
   "name": "python",
   "nbconvert_exporter": "python",
   "pygments_lexer": "ipython3",
   "version": "3.10.6"
  }
 },
 "nbformat": 4,
 "nbformat_minor": 4
}
