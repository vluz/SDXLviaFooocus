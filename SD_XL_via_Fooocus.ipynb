{
  "cells": [
    {
      "cell_type": "markdown",
      "metadata": {
        "id": "8vvCPvwUGg9Z"
      },
      "source": [
        "# SD-XL on collab free via Fooocus 😏\n",
        "\n",
        "## Run each code cell in sequence.\n",
        "\n",
        "https://github.com/lllyasviel/Fooocus\n",
        "\n",
        "https://github.com/vluz/SDXLviaFooocus\n"
      ]
    },
    {
      "cell_type": "code",
      "execution_count": null,
      "metadata": {
        "id": "VjYy0F2gZIPR"
      },
      "outputs": [],
      "source": [
        "%cd /content\n",
        "!git clone https://github.com/lllyasviel/Fooocus"
      ]
    },
    {
      "cell_type": "code",
      "execution_count": null,
      "metadata": {
        "id": "8Nr0KfWWFy9V"
      },
      "outputs": [],
      "source": [
        "!apt -y update -qq\n",
        "!apt -y install -qq aria2\n",
        "!wget https://github.com/camenduru/gperftools/releases/download/v1.0/libtcmalloc_minimal.so.4 -O /content/libtcmalloc_minimal.so.4\n",
        "%env LD_PRELOAD=/content/libtcmalloc_minimal.so.4"
      ]
    },
    {
      "cell_type": "code",
      "execution_count": null,
      "metadata": {
        "id": "hWw-tLnGF9vt"
      },
      "outputs": [],
      "source": [
        "!pip install torchsde==0.2.5 einops==0.4.1 transformers==4.30.2 safetensors==0.3.1 accelerate==0.21.0\n",
        "!pip install pytorch_lightning==1.9.4 omegaconf==2.2.3 gradio==3.39.0 xformers==0.0.20 triton==2.0.0 pygit2==1.12.2\n",
        "!pip install --upgrade tensorrt tensorrt_libs tensorrt_bindings"
      ]
    },
    {
      "cell_type": "markdown",
      "metadata": {
        "id": "I7yP9MPb8CFX"
      },
      "source": [
        "## Please click button above named \"RESTART RUNTIME\" and wait for runtime to reload."
      ]
    },
    {
      "cell_type": "code",
      "execution_count": null,
      "metadata": {
        "id": "ksCmR-skGIgR"
      },
      "outputs": [],
      "source": [
        "!aria2c --console-log-level=error -c -x 16 -s 16 -k 1M…16 -s 16 -k 1M https://huggingface.co/ckpt/sd_xl_refiner_1.0/resolve/main/sd_xl_refiner_1.0_0.9vae.safetensors -d /content/Fooocus/models/checkpoints -o sd_xl_refiner_1.0_0.9vae.safetensors\n",
        "!aria2c --console-log-level=error -c -x 16 -s 16 -k 1M…16 -s 16 -k 1M https://huggingface.co/stabilityai/stable-diffusion-xl-base-1.0/resolve/main/sd_xl_base_1.0_0.9vae.safetensors -d /content/Fooocus/models/checkpoints -o sd_xl_base_1.0_0.9vae.safetensors\n",
        "!aria2c --console-log-level=error -c -x 16 -s 16 -k 1M https://huggingface.co/stabilityai/stable-diffusion-xl-base-1.0/resolve/main/sd_xl_offset_example-lora_1.0.safetensors -d /content/Fooocus/models/loras -o sd_xl_offset_example-lora_1.0.safetensors"
      ]
    },
    {
      "cell_type": "code",
      "execution_count": null,
      "metadata": {
        "id": "OuI0wOX3GOQw"
      },
      "outputs": [],
      "source": [
        "%cd /content/Fooocus\n",
        "!git pull"
      ]
    },
    {
      "cell_type": "code",
      "execution_count": null,
      "metadata": {
        "id": "EupuR3yKGR6X"
      },
      "outputs": [],
      "source": [
        "!python launch.py --share"
      ]
    },
    {
      "cell_type": "markdown",
      "metadata": {
        "id": "GAg8zpguGdn2"
      },
      "source": [
        "Takes quite a bit to load, please wait.\n",
        "Wait for line similar to \"https://000000000000000000000.gradio.live\"    \n",
        "\n",
        "Click on link and open in new tab.\n",
        "\n",
        "Generate images as you see fit.\n",
        "\n",
        "===========================================================================\n",
        "\n",
        "After finishing all generation, run cell below."
      ]
    },
    {
      "cell_type": "code",
      "execution_count": null,
      "metadata": {
        "id": "kPncjbrSGci2"
      },
      "outputs": [],
      "source": [
        "!cd /content/Fooocus/outputs/ && tar -cvf output.tar . && gzip output.tar"
      ]
    },
    {
      "cell_type": "markdown",
      "metadata": {
        "id": "mbrW4V-OHu8I"
      },
      "source": [
        "## Download output.tar.gz from files, /content/Fooocus/outputs/ directory"
      ]
    }
  ],
  "metadata": {
    "accelerator": "GPU",
    "colab": {
      "gpuType": "T4",
      "provenance": []
    },
    "kernelspec": {
      "display_name": "Python 3 (ipykernel)",
      "language": "python",
      "name": "python3"
    },
    "language_info": {
      "codemirror_mode": {
        "name": "ipython",
        "version": 3
      },
      "file_extension": ".py",
      "mimetype": "text/x-python",
      "name": "python",
      "nbconvert_exporter": "python",
      "pygments_lexer": "ipython3",
      "version": "3.10.6"
    }
  },
  "nbformat": 4,
  "nbformat_minor": 0
}