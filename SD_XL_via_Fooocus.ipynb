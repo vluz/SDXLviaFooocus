{
  "cells": [
    {
      "cell_type": "markdown",
      "metadata": {
        "id": "8vvCPvwUGg9Z"
      },
      "source": [
        "# SD-XL on collab free via Fooocus 😏\n",
        "\n",
        "## Run each code cell in sequence.\n",
        "\n",
        "Wait for each cell to finish before running the next one.\n",
        "\n",
        "https://github.com/lllyasviel/Fooocus\n",
        "\n",
        "https://github.com/vluz/SDXLviaFooocus\n"
      ]
    },
    {
      "cell_type": "code",
      "execution_count": null,
      "metadata": {
        "id": "VjYy0F2gZIPR"
      },
      "outputs": [],
      "source": [
        "%cd /content\n",
        "!git clone https://github.com/lllyasviel/Fooocus\n",
        "!apt -y update -qq\n",
        "!apt -y install -qq aria2\n",
        "!wget https://github.com/camenduru/gperftools/releases/download/v1.0/libtcmalloc_minimal.so.4 -O /content/libtcmalloc_minimal.so.4\n",
        "%env LD_PRELOAD=/content/libtcmalloc_minimal.so.4"
      ]
    },
    {
      "cell_type": "code",
      "execution_count": null,
      "metadata": {
        "id": "hWw-tLnGF9vt"
      },
      "outputs": [],
      "source": [
        "!pip install torchsde==0.2.5 einops==0.4.1 transformers==4.30.2 safetensors==0.3.1 accelerate==0.21.0 pyyaml==6.0 Pillow==9.2.0 \\\n",
        "scipy==1.9.3 tqdm==4.64.1 psutil==5.9.5 pytorch_lightning==1.9.4 omegaconf==2.2.3 gradio==3.41.2 pygit2==1.12.2 \\\n",
        "opencv-contrib-python==4.8.0.74 httpx==0.24.1 onnxruntime==1.16.3 timm==0.9.2 \\\n",
        "torch==2.0.1 torchvision==0.15.2 torchaudio==2.0.2 torchtext==0.15.2 torchdata==0.6.1"
      ]
    },
    {
      "cell_type": "markdown",
      "metadata": {
        "id": "I7yP9MPb8CFX"
      },
      "source": [
        "### Please click button above ☝️ named \"RESTART SESSION\" or the window that pops up, and wait for runtime at top right of the collab page to reload."
      ]
    },
    {
      "cell_type": "code",
      "execution_count": null,
      "metadata": {
        "id": "ksCmR-skGIgR"
      },
      "outputs": [],
      "source": [
        "!aria2c --console-log-level=error -c -x 16 -s 16 -k 1M…16 -s 16 -k 1M https://huggingface.co/ckpt/sd_xl_refiner_1.0/resolve/main/sd_xl_refiner_1.0_0.9vae.safetensors -d /content/Fooocus/models/checkpoints -o sd_xl_refiner_1.0_0.9vae.safetensors\n",
        "!aria2c --console-log-level=error -c -x 16 -s 16 -k 1M…16 -s 16 -k 1M https://huggingface.co/stabilityai/stable-diffusion-xl-base-1.0/resolve/main/sd_xl_base_1.0_0.9vae.safetensors -d /content/Fooocus/models/checkpoints -o sd_xl_base_1.0_0.9vae.safetensors\n",
        "!aria2c --console-log-level=error -c -x 16 -s 16 -k 1M https://huggingface.co/stabilityai/stable-diffusion-xl-base-1.0/resolve/main/sd_xl_offset_example-lora_1.0.safetensors -d /content/Fooocus/models/loras -o sd_xl_offset_example-lora_1.0.safetensors"
      ]
    },
    {
      "cell_type": "code",
      "execution_count": null,
      "metadata": {
        "id": "EupuR3yKGR6X"
      },
      "outputs": [],
      "source": [
        "%cd /content/Fooocus\n",
        "!python launch.py --share"
      ]
    },
    {
      "cell_type": "markdown",
      "metadata": {
        "id": "GAg8zpguGdn2"
      },
      "source": [
        "Takes quite a bit to load, please wait.     \n",
        "Wait for the second line similar to \"https://000000000000000000000.gradio.live\"    \n",
        "\n",
        "Open the link in a new tab.\n",
        "\n",
        "Generate images as you see fit.\n",
        "\n",
        "---\n",
        "\n",
        "⚠️ If runtime runs out of memory please restart cell above and choose a smaller resolution.      \n",
        "Foooocus has become big and it may go over the free Google collab limit.\n",
        "\n",
        "---\n",
        "---\n",
        "\n",
        "After finishing all generation, stop cell above and run cell below."
      ]
    },
    {
      "cell_type": "code",
      "execution_count": null,
      "metadata": {
        "id": "kPncjbrSGci2"
      },
      "outputs": [],
      "source": [
        "!cd /content/Fooocus/outputs/ && tar -cvf output.tar . && gzip output.tar"
      ]
    },
    {
      "cell_type": "markdown",
      "metadata": {
        "id": "mbrW4V-OHu8I"
      },
      "source": [
        "## Download output.tar.gz from files, /content/Fooocus/outputs/ directory\n",
        "You can clik the link above to open the directory\n",
        "\n",
        "---\n",
        "\n",
        "After all is downloaded, go to Runtime menu and choose Disconnect and delete runtime.\n",
        "\n",
        "\n",
        "---\n",
        "---"
      ]
    }
  ],
  "metadata": {
    "accelerator": "GPU",
    "colab": {
      "gpuType": "T4",
      "provenance": []
    },
    "kernelspec": {
      "display_name": "Python 3 (ipykernel)",
      "language": "python",
      "name": "python3"
    },
    "language_info": {
      "codemirror_mode": {
        "name": "ipython",
        "version": 3
      },
      "file_extension": ".py",
      "mimetype": "text/x-python",
      "name": "python",
      "nbconvert_exporter": "python",
      "pygments_lexer": "ipython3",
      "version": "3.10.6"
    }
  },
  "nbformat": 4,
  "nbformat_minor": 0
}