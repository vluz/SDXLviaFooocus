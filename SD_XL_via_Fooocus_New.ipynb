{
  "cells": [
    {
      "cell_type": "markdown",
      "source": [
        "\n",
        "\n",
        "# SD-XL diffusion via project Foooocus\n",
        "\n",
        "## https://github.com/lllyasviel/Fooocus\n",
        "\n",
        "This modified and commented file can be found at:     \n",
        "https://github.com/vluz/SDXLviaFooocus/blob/main/SD_XL_via_Fooocus_New.ipynb\n",
        "\n",
        "---\n",
        "\n",
        "Run each cell by clicking the play (⏵︎) icon at the top left of the cell.\n"
      ],
      "metadata": {
        "id": "H4uK0fhEK1gn"
      }
    },
    {
      "cell_type": "code",
      "execution_count": null,
      "metadata": {
        "id": "VjYy0F2gZIPR"
      },
      "outputs": [],
      "source": [
        "!pip install pygit2==1.12.2 --quiet\n",
        "%cd /content\n",
        "!git clone https://github.com/lllyasviel/Fooocus.git\n",
        "%cd /content/Fooocus\n",
        "!python entry_with_update.py --share --always-high-vram\n"
      ]
    },
    {
      "cell_type": "markdown",
      "source": [
        "Wait for the second line similar to `https://000000000000000000000.gradio.live`\n",
        "\n",
        "Click the link on the cell and open it in a new tab, while keeping this page open on it's own tab.\n",
        "\n",
        "## On the new tab generate all the images images you wish\n",
        "\n",
        "More information on the interface can be found at:     \n",
        "https://github.com/lllyasviel/Fooocus/discussions/117\n",
        "\n",
        "---\n",
        "\n",
        "When you've finished generating your images, click the stop icon (⏹︎) and then run the cell below."
      ],
      "metadata": {
        "id": "-16IjjpkNGIR"
      }
    },
    {
      "cell_type": "code",
      "source": [
        "!cd /content/Fooocus/outputs && tar --exclude='./archive.tar.gz' -czvf archive.tar.gz ."
      ],
      "metadata": {
        "id": "2xNQkqqVJFY8"
      },
      "execution_count": null,
      "outputs": []
    },
    {
      "cell_type": "markdown",
      "source": [
        "Go to /content/Fooocus/outputs and download the file named `archive.tar.gz`"
      ],
      "metadata": {
        "id": "6Xn2IfJGKgiZ"
      }
    },
    {
      "cell_type": "code",
      "source": [],
      "metadata": {
        "id": "8QjSPfrsJQY3"
      },
      "execution_count": null,
      "outputs": []
    }
  ],
  "metadata": {
    "accelerator": "GPU",
    "colab": {
      "gpuType": "T4",
      "provenance": []
    },
    "kernelspec": {
      "display_name": "Python 3",
      "name": "python3"
    },
    "language_info": {
      "name": "python"
    }
  },
  "nbformat": 4,
  "nbformat_minor": 0
}