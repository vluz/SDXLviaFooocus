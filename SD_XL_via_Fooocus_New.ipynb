{
  "cells": [
    {
      "cell_type": "markdown",
      "source": [
        "\n",
        "\n",
        "# SD-XL diffusion via project Foooocus\n",
        "\n",
        "## https://github.com/lllyasviel/Fooocus\n",
        "\n",
        "This modified and commented file can be found at:     \n",
        "https://github.com/vluz/SDXLviaFooocus/blob/main/SD_XL_via_Fooocus_New.ipynb\n",
        "\n",
        "This version is based on the published official collab notebook.\n",
        "\n",
        "---\n",
        "\n",
        "Run the cell by clicking the play (⏵︎) icon at the top left of the cell.\n",
        "\n",
        "It will take some time to get to a usable state.\n"
      ],
      "metadata": {
        "id": "H4uK0fhEK1gn"
      }
    },
    {
      "cell_type": "code",
      "execution_count": null,
      "metadata": {
        "id": "VjYy0F2gZIPR"
      },
      "outputs": [],
      "source": [
        "!pip install pygit2==1.12.2 --quiet\n",
        "%cd /content\n",
        "!git clone --quiet https://github.com/lllyasviel/Fooocus.git\n",
        "%cd /content/Fooocus\n",
        "!python entry_with_update.py --share --always-high-vram\n"
      ]
    },
    {
      "cell_type": "markdown",
      "source": [
        "Wait for the line similar to:      \n",
        "`App started successful. Use the app with http://127.0.0.1:7865/ or 127.0.0.1:7865 or https://0a1b2c3d4e5f0a1b2.gradio.live`\n",
        "\n",
        "Click the `https://0a1b2c3d4e5f0a1b2.gradio.live` link on the cell and open it in a new tab, while keeping this page open on it's own tab.\n",
        "\n",
        "On the new tab generate all the images images you wish.       \n",
        "Foooocus is an amazing project, capable of generating trully fantastic images.\n",
        "\n",
        "More information on the interface and functionality can be found at:     \n",
        "https://github.com/lllyasviel/Fooocus/discussions/117\n",
        "\n",
        "---\n",
        "\n",
        "When you've finished generating your images, click the stop icon (⏹︎) on the cell above and then run the cell below."
      ],
      "metadata": {
        "id": "-16IjjpkNGIR"
      }
    },
    {
      "cell_type": "code",
      "source": [
        "!cd /content/Fooocus/outputs && tar --exclude='./archive.tar.gz' -czvf archive.tar.gz ."
      ],
      "metadata": {
        "id": "2xNQkqqVJFY8"
      },
      "execution_count": null,
      "outputs": []
    },
    {
      "cell_type": "markdown",
      "source": [
        "Go to /content/Fooocus/outputs and download the file named `archive.tar.gz`      \n",
        "by clicking the ⋮ icon and choosing \"Download\" from the pop up menu."
      ],
      "metadata": {
        "id": "6Xn2IfJGKgiZ"
      }
    },
    {
      "cell_type": "markdown",
      "source": [
        "After all is downloaded please click the \"Runtime\" menu and select \"Disconnect and delete runtime\"    \n",
        "You can safely close this page."
      ],
      "metadata": {
        "id": "84lBEqhUVzcs"
      }
    }
  ],
  "metadata": {
    "accelerator": "GPU",
    "colab": {
      "gpuType": "T4",
      "provenance": []
    },
    "kernelspec": {
      "display_name": "Python 3",
      "name": "python3"
    },
    "language_info": {
      "name": "python"
    }
  },
  "nbformat": 4,
  "nbformat_minor": 0
}